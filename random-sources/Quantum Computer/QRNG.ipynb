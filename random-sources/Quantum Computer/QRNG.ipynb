{
 "cells": [
  {
   "cell_type": "code",
   "execution_count": 2,
   "metadata": {},
   "outputs": [],
   "source": [
    "from qiskit import *\n",
    "from qiskit.tools.visualization import plot_histogram\n",
    "from qiskit.tools.monitor import job_monitor\n",
    "import array\n",
    "%matplotlib inline"
   ]
  },
  {
   "cell_type": "code",
   "execution_count": 3,
   "metadata": {},
   "outputs": [
    {
     "data": {
      "text/html": [
       "<pre style=\"word-wrap: normal;white-space: pre;background: #fff0;line-height: 1.1;font-family: &quot;Courier New&quot;,Courier,monospace\">     ┌───┐ ░ ┌─┐                           \n",
       "q_0: ┤ H ├─░─┤M├───────────────────────────\n",
       "     ├───┤ ░ └╥┘┌─┐                        \n",
       "q_1: ┤ H ├─░──╫─┤M├────────────────────────\n",
       "     ├───┤ ░  ║ └╥┘┌─┐                     \n",
       "q_2: ┤ H ├─░──╫──╫─┤M├─────────────────────\n",
       "     ├───┤ ░  ║  ║ └╥┘┌─┐                  \n",
       "q_3: ┤ H ├─░──╫──╫──╫─┤M├──────────────────\n",
       "     ├───┤ ░  ║  ║  ║ └╥┘┌─┐               \n",
       "q_4: ┤ H ├─░──╫──╫──╫──╫─┤M├───────────────\n",
       "     ├───┤ ░  ║  ║  ║  ║ └╥┘┌─┐            \n",
       "q_5: ┤ H ├─░──╫──╫──╫──╫──╫─┤M├────────────\n",
       "     ├───┤ ░  ║  ║  ║  ║  ║ └╥┘┌─┐         \n",
       "q_6: ┤ H ├─░──╫──╫──╫──╫──╫──╫─┤M├─────────\n",
       "     ├───┤ ░  ║  ║  ║  ║  ║  ║ └╥┘┌─┐      \n",
       "q_7: ┤ H ├─░──╫──╫──╫──╫──╫──╫──╫─┤M├──────\n",
       "     ├───┤ ░  ║  ║  ║  ║  ║  ║  ║ └╥┘┌─┐   \n",
       "q_8: ┤ H ├─░──╫──╫──╫──╫──╫──╫──╫──╫─┤M├───\n",
       "     ├───┤ ░  ║  ║  ║  ║  ║  ║  ║  ║ └╥┘┌─┐\n",
       "q_9: ┤ H ├─░──╫──╫──╫──╫──╫──╫──╫──╫──╫─┤M├\n",
       "     └───┘ ░  ║  ║  ║  ║  ║  ║  ║  ║  ║ └╥┘\n",
       "c_0: ═════════╩══╬══╬══╬══╬══╬══╬══╬══╬══╬═\n",
       "                 ║  ║  ║  ║  ║  ║  ║  ║  ║ \n",
       "c_1: ════════════╩══╬══╬══╬══╬══╬══╬══╬══╬═\n",
       "                    ║  ║  ║  ║  ║  ║  ║  ║ \n",
       "c_2: ═══════════════╩══╬══╬══╬══╬══╬══╬══╬═\n",
       "                       ║  ║  ║  ║  ║  ║  ║ \n",
       "c_3: ══════════════════╩══╬══╬══╬══╬══╬══╬═\n",
       "                          ║  ║  ║  ║  ║  ║ \n",
       "c_4: ═════════════════════╩══╬══╬══╬══╬══╬═\n",
       "                             ║  ║  ║  ║  ║ \n",
       "c_5: ════════════════════════╩══╬══╬══╬══╬═\n",
       "                                ║  ║  ║  ║ \n",
       "c_6: ═══════════════════════════╩══╬══╬══╬═\n",
       "                                   ║  ║  ║ \n",
       "c_7: ══════════════════════════════╩══╬══╬═\n",
       "                                      ║  ║ \n",
       "c_8: ═════════════════════════════════╩══╬═\n",
       "                                         ║ \n",
       "c_9: ════════════════════════════════════╩═\n",
       "                                           </pre>"
      ],
      "text/plain": [
       "     ┌───┐ ░ ┌─┐                           \n",
       "q_0: ┤ H ├─░─┤M├───────────────────────────\n",
       "     ├───┤ ░ └╥┘┌─┐                        \n",
       "q_1: ┤ H ├─░──╫─┤M├────────────────────────\n",
       "     ├───┤ ░  ║ └╥┘┌─┐                     \n",
       "q_2: ┤ H ├─░──╫──╫─┤M├─────────────────────\n",
       "     ├───┤ ░  ║  ║ └╥┘┌─┐                  \n",
       "q_3: ┤ H ├─░──╫──╫──╫─┤M├──────────────────\n",
       "     ├───┤ ░  ║  ║  ║ └╥┘┌─┐               \n",
       "q_4: ┤ H ├─░──╫──╫──╫──╫─┤M├───────────────\n",
       "     ├───┤ ░  ║  ║  ║  ║ └╥┘┌─┐            \n",
       "q_5: ┤ H ├─░──╫──╫──╫──╫──╫─┤M├────────────\n",
       "     ├───┤ ░  ║  ║  ║  ║  ║ └╥┘┌─┐         \n",
       "q_6: ┤ H ├─░──╫──╫──╫──╫──╫──╫─┤M├─────────\n",
       "     ├───┤ ░  ║  ║  ║  ║  ║  ║ └╥┘┌─┐      \n",
       "q_7: ┤ H ├─░──╫──╫──╫──╫──╫──╫──╫─┤M├──────\n",
       "     ├───┤ ░  ║  ║  ║  ║  ║  ║  ║ └╥┘┌─┐   \n",
       "q_8: ┤ H ├─░──╫──╫──╫──╫──╫──╫──╫──╫─┤M├───\n",
       "     ├───┤ ░  ║  ║  ║  ║  ║  ║  ║  ║ └╥┘┌─┐\n",
       "q_9: ┤ H ├─░──╫──╫──╫──╫──╫──╫──╫──╫──╫─┤M├\n",
       "     └───┘ ░  ║  ║  ║  ║  ║  ║  ║  ║  ║ └╥┘\n",
       "c_0: ═════════╩══╬══╬══╬══╬══╬══╬══╬══╬══╬═\n",
       "                 ║  ║  ║  ║  ║  ║  ║  ║  ║ \n",
       "c_1: ════════════╩══╬══╬══╬══╬══╬══╬══╬══╬═\n",
       "                    ║  ║  ║  ║  ║  ║  ║  ║ \n",
       "c_2: ═══════════════╩══╬══╬══╬══╬══╬══╬══╬═\n",
       "                       ║  ║  ║  ║  ║  ║  ║ \n",
       "c_3: ══════════════════╩══╬══╬══╬══╬══╬══╬═\n",
       "                          ║  ║  ║  ║  ║  ║ \n",
       "c_4: ═════════════════════╩══╬══╬══╬══╬══╬═\n",
       "                             ║  ║  ║  ║  ║ \n",
       "c_5: ════════════════════════╩══╬══╬══╬══╬═\n",
       "                                ║  ║  ║  ║ \n",
       "c_6: ═══════════════════════════╩══╬══╬══╬═\n",
       "                                   ║  ║  ║ \n",
       "c_7: ══════════════════════════════╩══╬══╬═\n",
       "                                      ║  ║ \n",
       "c_8: ═════════════════════════════════╩══╬═\n",
       "                                         ║ \n",
       "c_9: ════════════════════════════════════╩═\n",
       "                                           "
      ]
     },
     "execution_count": 3,
     "metadata": {},
     "output_type": "execute_result"
    }
   ],
   "source": [
    "#input maximum 15\n",
    "a=[]\n",
    "for  i in range(10):\n",
    "    a.append(i)\n",
    "\n",
    "circuit=QuantumCircuit(len(a), len(a)) \n",
    "    \n",
    "for ii in a:\n",
    "    circuit.h(ii)\n",
    "    \n",
    "circuit.barrier()\n",
    "\n",
    "circuit.measure(a, a)\n",
    "circuit.draw()"
   ]
  },
  {
   "cell_type": "code",
   "execution_count": 41,
   "metadata": {},
   "outputs": [
    {
     "name": "stdout",
     "output_type": "stream",
     "text": [
      "{'11110111111000010000110111111000001010001011110101': 1}\n"
     ]
    }
   ],
   "source": [
    "#counts=execute(circuit, backend=Aer.get_backend('qasm_simulator'), shots=1).result().get_counts()\n",
    "#print(counts)"
   ]
  },
  {
   "cell_type": "code",
   "execution_count": 7,
   "metadata": {},
   "outputs": [
    {
     "name": "stderr",
     "output_type": "stream",
     "text": [
      "ibmqfactory.load_account:WARNING:2020-07-26 16:45:42,542: Credentials are already in use. The existing account in the session will be replaced.\n"
     ]
    }
   ],
   "source": [
    "IBMQ.load_account()\n",
    "provider=IBMQ.get_provider('ibm-q')\n",
    "device=provider.get_backend('ibmq_qasm_simulator')"
   ]
  },
  {
   "cell_type": "code",
   "execution_count": 11,
   "metadata": {},
   "outputs": [
    {
     "name": "stdout",
     "output_type": "stream",
     "text": [
      "5f1d6619646fcb0014e726dc\n",
      "Job Status: job has successfully run\n"
     ]
    }
   ],
   "source": [
    "job=execute(circuit, backend=device, shots=5)\n",
    "print(job.job_id())\n",
    "job_monitor(job)"
   ]
  },
  {
   "cell_type": "code",
   "execution_count": 12,
   "metadata": {},
   "outputs": [
    {
     "name": "stdout",
     "output_type": "stream",
     "text": [
      "{'1001001110': 1, '1011111111': 1, '1111010000': 1, '0100010111': 1, '1111001100': 1}\n"
     ]
    }
   ],
   "source": [
    "result=job.result()\n",
    "counts=result.get_counts()\n",
    "print(counts)"
   ]
  },
  {
   "cell_type": "code",
   "execution_count": null,
   "metadata": {},
   "outputs": [],
   "source": []
  }
 ],
 "metadata": {
  "kernelspec": {
   "display_name": "Python 3",
   "language": "python",
   "name": "python3"
  },
  "language_info": {
   "codemirror_mode": {
    "name": "ipython",
    "version": 3
   },
   "file_extension": ".py",
   "mimetype": "text/x-python",
   "name": "python",
   "nbconvert_exporter": "python",
   "pygments_lexer": "ipython3",
   "version": "3.7.6"
  }
 },
 "nbformat": 4,
 "nbformat_minor": 4
}
